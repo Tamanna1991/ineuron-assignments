{
 "cells": [
  {
   "cell_type": "code",
   "execution_count": 1,
   "id": "aadb3708-e69c-4e0a-bc08-41243be49247",
   "metadata": {},
   "outputs": [
    {
     "data": {
      "text/plain": [
       "True"
      ]
     },
     "execution_count": 1,
     "metadata": {},
     "output_type": "execute_result"
    }
   ],
   "source": [
    "#1.What are the two values of the Boolean data type? How do you write them?\n",
    "# Boolean data type: True and False\n",
    "1<=0\n",
    "5>=2"
   ]
  },
  {
   "cell_type": "code",
   "execution_count": 2,
   "id": "57991f36-6689-4d9c-af9f-9b02e090814d",
   "metadata": {},
   "outputs": [
    {
     "name": "stdout",
     "output_type": "stream",
     "text": [
      "The greatest number is n2\n"
     ]
    }
   ],
   "source": [
    "#2. What are the three different types of Boolean operators?\n",
    "#Three boolean operators: And, OR ,Not\n",
    "#An example of or\n",
    "n1 = 5\n",
    "n2 = 7\n",
    "n3 = 9\n",
    "if n1>n2 or n1>n3:\n",
    "  print(\"The grestest number is n1\")\n",
    "elif n2>n1 or n2>n3:\n",
    "  print(\"The greatest number is n2\")\n",
    "else:\n",
    "  print(\"The gretest number is n3\")\n"
   ]
  },
  {
   "cell_type": "code",
   "execution_count": 3,
   "id": "13582862-0a7a-4e82-9f0d-9d48922c9b24",
   "metadata": {},
   "outputs": [],
   "source": [
    "#3. Make a list of each Boolean operator&#39;s truth tables (i.e. every possible combination of Boolean\n",
    "#values for the operator and what it evaluate ).\n",
    " #T &&T = T\n",
    " #T && F = F\n",
    " #F && T = F\n",
    " #F && F = F\n",
    " #T || T = T\n",
    " #T  || F = T\n",
    " #F  ||T =  T\n",
    " #F  ||F = F\n",
    " #!T = F\n",
    " #!F = T"
   ]
  },
  {
   "cell_type": "code",
   "execution_count": null,
   "id": "da907274-2df7-4022-9bfd-142820e49f73",
   "metadata": {},
   "outputs": [],
   "source": [
    "#4. What are the values of the following expressions?(5 &gt; 4) and (3 == 5)not (5 &gt; 4)(5 &gt; 4) or (3 == 5)not ((5 &gt; 4) or (3 == 5))(True and True) and (True == False)\n",
    "#(not False) or (not True)\n",
    "(5>=4) and (3==5)\n",
    "not(5>4)\n",
    "(5>=4) or (3==5)\n"
   ]
  },
  {
   "cell_type": "code",
   "execution_count": 5,
   "id": "82eb55a2-0ea5-4bc2-ac22-71bef4b2341b",
   "metadata": {},
   "outputs": [
    {
     "data": {
      "text/plain": [
       "False"
      ]
     },
     "execution_count": 5,
     "metadata": {},
     "output_type": "execute_result"
    }
   ],
   "source": [
    "not(5>4)"
   ]
  },
  {
   "cell_type": "code",
   "execution_count": 23,
   "id": "c26abb00-31f1-4a30-9e2c-0f85251538cc",
   "metadata": {},
   "outputs": [
    {
     "name": "stdout",
     "output_type": "stream",
     "text": [
      "True\n"
     ]
    }
   ],
   "source": [
    "print((5>=4) or (3==5))"
   ]
  },
  {
   "cell_type": "code",
   "execution_count": 22,
   "id": "075f5682-bb60-43bf-a622-337244a0785c",
   "metadata": {},
   "outputs": [],
   "source": [
    "!(5>4)"
   ]
  },
  {
   "cell_type": "code",
   "execution_count": 9,
   "id": "faad360d-84f3-4856-a44f-67bc29d33de6",
   "metadata": {},
   "outputs": [
    {
     "data": {
      "text/plain": [
       "False"
      ]
     },
     "execution_count": 9,
     "metadata": {},
     "output_type": "execute_result"
    }
   ],
   "source": [
    "not ((5 >= 4) or (3 == 5))"
   ]
  },
  {
   "cell_type": "code",
   "execution_count": 12,
   "id": "0b09e567-01a9-460d-85f9-0fbd6cca977e",
   "metadata": {},
   "outputs": [
    {
     "data": {
      "text/plain": [
       "False"
      ]
     },
     "execution_count": 12,
     "metadata": {},
     "output_type": "execute_result"
    }
   ],
   "source": [
    "(True and True) and (True == False)"
   ]
  },
  {
   "cell_type": "code",
   "execution_count": 13,
   "id": "5ba0f232-acd9-4fee-81f1-ad19383f79c7",
   "metadata": {},
   "outputs": [
    {
     "data": {
      "text/plain": [
       "True"
      ]
     },
     "execution_count": 13,
     "metadata": {},
     "output_type": "execute_result"
    }
   ],
   "source": [
    "(not False) or (not True)"
   ]
  },
  {
   "cell_type": "code",
   "execution_count": 25,
   "id": "bd3fe1c2-be14-4b46-9340-23b1d4cbccb6",
   "metadata": {},
   "outputs": [
    {
     "name": "stdout",
     "output_type": "stream",
     "text": [
      "False\n",
      "True\n",
      "False\n",
      "True\n",
      "True\n",
      "False\n"
     ]
    }
   ],
   "source": [
    "#5. What are the six comparison operators?\n",
    "#equal to (==)\n",
    "#greater than equal to(>=)\n",
    "#less than equal to(<=)\n",
    "#not equal to (!=)\n",
    "#greater than(>)\n",
    "#less than(<)\n",
    "x = 5\n",
    "y = 3\n",
    "print(x == y)\n",
    "print(x>=y)\n",
    "print(x<=y)\n",
    "print(x!=y)\n",
    "print(x>y)\n",
    "print(x<y)"
   ]
  },
  {
   "cell_type": "code",
   "execution_count": 27,
   "id": "0f32d036-6b4b-42c5-9729-cf81589381b5",
   "metadata": {},
   "outputs": [
    {
     "name": "stdout",
     "output_type": "stream",
     "text": [
      "25\n",
      "True\n"
     ]
    }
   ],
   "source": [
    "##How do you tell the difference between the equal to and assignment operators?Describe a\n",
    "#condition and when you would use one.\n",
    "#equal to operator is use to assign value on the other side variable (ex age =25)\n",
    "#assignment operator is use to check euality on the both sides expression(5==4)\n",
    "age = 25 #equal operator)\n",
    "print(age)\n",
    "print(3==3) #assignment operator)\n",
    "    \n"
   ]
  },
  {
   "cell_type": "code",
   "execution_count": 2,
   "id": "82afb107-6621-42a2-9057-dc73a9c9de0f",
   "metadata": {},
   "outputs": [
    {
     "name": "stdout",
     "output_type": "stream",
     "text": [
      "spam\n",
      "spam\n"
     ]
    }
   ],
   "source": [
    "spam = 0\n",
    "if spam == 10:\n",
    "    print('eggs')\n",
    "    if spam >= 5:\n",
    "        print('bacon')\n",
    "        \n",
    "    else:\n",
    "        print('ham')\n",
    "print('spam')\n",
    "print('spam')"
   ]
  },
  {
   "cell_type": "code",
   "execution_count": 7,
   "id": "ca3c94b8-bb0c-40c6-8f7e-7efb01598a52",
   "metadata": {},
   "outputs": [
    {
     "name": "stdin",
     "output_type": "stream",
     "text": [
      "Enter value of spam 4\n"
     ]
    },
    {
     "name": "stdout",
     "output_type": "stream",
     "text": [
      "Greetings of the day\n"
     ]
    }
   ],
   "source": [
    "#Write code that prints Hello if 1 is stored in spam, prints Howdy if 2 is stored in spam, and prints\n",
    "#Greetings! if anything else is stored in spam.\n",
    "spam = int(input(\"Enter value of spam\"))\n",
    "if spam == 1:\n",
    "    print('Hello')\n",
    "    if spam == 2:\n",
    "        print('Howdy')\n",
    "else:\n",
    "    print('Greetings of the day')"
   ]
  },
  {
   "cell_type": "markdown",
   "id": "46e6cf6e-a5b4-4dfe-adcd-f88a88fa3e92",
   "metadata": {},
   "source": [
    "#9.If your programme is stuck in an endless loop, what keys you’ll press?\n",
    "#Ans: ctrl+C"
   ]
  },
  {
   "cell_type": "markdown",
   "id": "b4d97424-1c47-47e6-bdb4-89c9e00ebaab",
   "metadata": {},
   "source": [
    "#10. How can you tell the difference between break and continue?\n",
    " Break statement terminates a while or for loop completely. \n",
    "The continue statement terminates execution of the statements within  a while or for loop and continues the loop in the next iteration\n"
   ]
  },
  {
   "cell_type": "code",
   "execution_count": 10,
   "id": "aa9714f7-02cb-4443-a333-7c006f691d08",
   "metadata": {},
   "outputs": [
    {
     "name": "stdout",
     "output_type": "stream",
     "text": [
      "0\n",
      "1\n",
      "2\n",
      "3\n",
      "4\n",
      "5\n",
      "6\n",
      "7\n"
     ]
    }
   ],
   "source": [
    "#Example of Break : Terminates for loop completely\n",
    "for i in range(10):\n",
    "    if i == 8:\n",
    "        break\n",
    "    else:\n",
    "        print(i)\n",
    "        "
   ]
  },
  {
   "cell_type": "code",
   "execution_count": 13,
   "id": "b5c1b2e0-175c-4689-a524-503b77ffdc54",
   "metadata": {},
   "outputs": [
    {
     "name": "stdout",
     "output_type": "stream",
     "text": [
      "0\n",
      "1\n",
      "2\n",
      "3\n",
      "5\n",
      "6\n",
      "7\n",
      "8\n",
      "9\n"
     ]
    }
   ],
   "source": [
    "# Example of Continue : Terminates statementas within while loop or \n",
    "#for loop and continues the loop in the next iteration\n",
    "for i in range(10):\n",
    "    if i == 4:\n",
    "        continue\n",
    "    else:\n",
    "        print(i)"
   ]
  },
  {
   "cell_type": "code",
   "execution_count": 18,
   "id": "9b4b9947-1f42-457a-9ffc-598b393a8ec8",
   "metadata": {},
   "outputs": [
    {
     "name": "stdout",
     "output_type": "stream",
     "text": [
      "0\n",
      "1\n",
      "2\n",
      "3\n",
      "4\n",
      "5\n",
      "6\n",
      "7\n",
      "8\n",
      "9\n"
     ]
    }
   ],
   "source": [
    "#11. In a for loop, what is the difference between range(10), range(0, 10), and range(0, 10, 1)?\n",
    "for i in range(10):\n",
    "    print(i)\n",
    "# Hence the output will be same for all three"
   ]
  },
  {
   "cell_type": "code",
   "execution_count": 15,
   "id": "c644e278-923a-476b-855b-d7858b60547f",
   "metadata": {},
   "outputs": [
    {
     "name": "stdout",
     "output_type": "stream",
     "text": [
      "0\n",
      "1\n",
      "2\n",
      "3\n",
      "4\n",
      "5\n",
      "6\n",
      "7\n",
      "8\n",
      "9\n"
     ]
    }
   ],
   "source": [
    "for i in range(0,10):\n",
    "    print(i)"
   ]
  },
  {
   "cell_type": "code",
   "execution_count": 16,
   "id": "d4b1930e-cf7a-4a6d-801a-c2e205e60f5e",
   "metadata": {},
   "outputs": [
    {
     "name": "stdout",
     "output_type": "stream",
     "text": [
      "0\n",
      "1\n",
      "2\n",
      "3\n",
      "4\n",
      "5\n",
      "6\n",
      "7\n",
      "8\n",
      "9\n"
     ]
    }
   ],
   "source": [
    "for i in range(0,10,1):\n",
    "    print(i)"
   ]
  },
  {
   "cell_type": "code",
   "execution_count": 19,
   "id": "0fe4ff44-bb28-4f97-87d7-afdd64d0d79f",
   "metadata": {},
   "outputs": [
    {
     "name": "stdout",
     "output_type": "stream",
     "text": [
      "1\n",
      "2\n",
      "3\n",
      "4\n",
      "5\n",
      "6\n",
      "7\n",
      "8\n",
      "9\n",
      "10\n"
     ]
    }
   ],
   "source": [
    "#12. Write a short program that prints the numbers 1 to 10 using a for loop. Then write an equivalent\n",
    "#program that prints the numbers 1 to 10 using a while loop.\n",
    "# program with the help of for loop\n",
    "for i in range(1,11):\n",
    "    print(i)"
   ]
  },
  {
   "cell_type": "code",
   "execution_count": null,
   "id": "30f8f233-25f0-4fe5-8daf-fbdc9d48bd40",
   "metadata": {},
   "outputs": [],
   "source": [
    "#Program for while loop\n",
    "a = 1\n",
    "while(a<=10):\n",
    "    print(a)\n",
    "    a+=1"
   ]
  },
  {
   "cell_type": "code",
   "execution_count": null,
   "id": "7dd6b442-0e9b-4ad1-a012-92b0d2725994",
   "metadata": {},
   "outputs": [],
   "source": [
    "#13. If you had a function named bacon() inside a module named spam, how would you call it after\n",
    "#importing spam?\n",
    "#Ans : spam.bacon()"
   ]
  }
 ],
 "metadata": {
  "kernelspec": {
   "display_name": "Python 3 (ipykernel)",
   "language": "python",
   "name": "python3"
  },
  "language_info": {
   "codemirror_mode": {
    "name": "ipython",
    "version": 3
   },
   "file_extension": ".py",
   "mimetype": "text/x-python",
   "name": "python",
   "nbconvert_exporter": "python",
   "pygments_lexer": "ipython3",
   "version": "3.10.6"
  }
 },
 "nbformat": 4,
 "nbformat_minor": 5
}
